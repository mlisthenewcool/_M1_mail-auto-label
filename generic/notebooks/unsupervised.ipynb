{
 "cells": [
  {
   "cell_type": "code",
   "execution_count": 3,
   "metadata": {},
   "outputs": [],
   "source": [
    "# -*- coding: utf-8 -*-\n",
    "import pandas as pd\n",
    "import numpy as np\n",
    "\n",
    "from sklearn.feature_extraction.text import CountVectorizer, TfidfVectorizer\n",
    "from sklearn.cluster import KMeans\n",
    "from sklearn.ensemble import RandomForestClassifier"
   ]
  },
  {
   "cell_type": "code",
   "execution_count": 4,
   "metadata": {},
   "outputs": [],
   "source": [
    "def get_scores(data):\n",
    "\t# on transforme le corpus en une matrice TF-IDF\n",
    "\tvect = TfidfVectorizer(ngram_range=(1,3), max_df=5, stop_words='english')\n",
    "\tvect.fit(data['text'])\n",
    "\tterms = vect.get_feature_names()\n",
    "\tX = pd.DataFrame(vect.transform(data['text']).todense(), columns=terms)\n",
    "\tX.shape\n",
    "\n",
    "\t# Application de KMeans\n",
    "\tN_CLUSTERS = 5\n",
    "\tkmeans = KMeans(n_clusters=N_CLUSTERS)\n",
    "\tkmeans.fit(X)\n",
    "\n",
    "\t# cluster du non supervisé comme cactégorie d'apprentissage\n",
    "\tdata['categorie'] = (kmeans.labels_)\n",
    "\n",
    "\torder_centroids = kmeans.cluster_centers_.argsort()[:, ::-1]\n",
    "\tfor i in range(N_CLUSTERS):\n",
    "\t\tprint(\"Cluster {}: \".format(i))\n",
    "\t\tfor ind in order_centroids[i, :10]:\n",
    "\t\t\tprint(' {}'.format(terms[ind]))\n",
    "    \n",
    "    # random forest\n",
    "\tclf = RandomForestClassifier(n_estimators=100, random_state=0)\n",
    "\tclf.fit(X, data['categorie'])\n",
    "\timportances = clf.feature_importances_\n",
    "\tindices = np.argsort(importances)[::-1]\n",
    "\tprint(np.array(terms)[indices[:50]])\n",
    "\tprint(clf.predict(X))"
   ]
  },
  {
   "cell_type": "code",
   "execution_count": null,
   "metadata": {},
   "outputs": [],
   "source": []
  }
 ],
 "metadata": {
  "kernelspec": {
   "display_name": "Python 3",
   "language": "python",
   "name": "python3"
  },
  "language_info": {
   "codemirror_mode": {
    "name": "ipython",
    "version": 3
   },
   "file_extension": ".py",
   "mimetype": "text/x-python",
   "name": "python",
   "nbconvert_exporter": "python",
   "pygments_lexer": "ipython3",
   "version": "3.7.0"
  }
 },
 "nbformat": 4,
 "nbformat_minor": 2
}
