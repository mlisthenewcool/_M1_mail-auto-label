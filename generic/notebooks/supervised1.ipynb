{
 "cells": [
  {
   "cell_type": "markdown",
   "metadata": {},
   "source": [
    "# import librairies"
   ]
  },
  {
   "cell_type": "code",
   "execution_count": 22,
   "metadata": {},
   "outputs": [],
   "source": [
    "import pandas as pd\n",
    "import numpy as np\n",
    "import matplotlib.pyplot as plt\n",
    "from sklearn.model_selection import train_test_split\n",
    "from sklearn.feature_extraction.text import TfidfVectorizer\n",
    "from sklearn.linear_model import LogisticRegression\n",
    "from sklearn.metrics import confusion_matrix, precision_score\n",
    "from sklearn.ensemble import RandomForestClassifier\n",
    "from sklearn.metrics import f1_score"
   ]
  },
  {
   "cell_type": "markdown",
   "metadata": {},
   "source": [
    "# download mails"
   ]
  },
  {
   "cell_type": "code",
   "execution_count": 23,
   "metadata": {},
   "outputs": [],
   "source": [
    "import os\n",
    "import sys\n",
    "sys.path.insert(0, 'put_absolute_path_of_mailautolabel_module')\n",
    "\n",
    "from mailautolabel.imap.imap import IMAPMain\n",
    "\n",
    "hostname=''\n",
    "username=''\n",
    "password=''\n",
    "\n",
    "imap = IMAPMain(hostname=hostname, username=username, password=password)\n",
    "messages = imap.get_messages(\n",
    "    header_keys=['from', 'subject', 'date', 'from', 'to']\n",
    ")"
   ]
  },
  {
   "cell_type": "markdown",
   "metadata": {},
   "source": [
    "# save mails into a csv"
   ]
  },
  {
   "cell_type": "code",
   "execution_count": 24,
   "metadata": {},
   "outputs": [],
   "source": [
    "import pandas, os\n",
    "path_to_save = os.path.abspath('../data/{}.csv'.format(username))\n",
    "pandas.DataFrame(messages).to_csv(path_to_save)"
   ]
  },
  {
   "cell_type": "markdown",
   "metadata": {},
   "source": [
    "# read mails from csv"
   ]
  },
  {
   "cell_type": "code",
   "execution_count": 25,
   "metadata": {},
   "outputs": [],
   "source": [
    "df = pd.read_csv(os.path.abspath('../data/{}.csv'.format(username)), sep=\",\", engine=\"python\", header=0)"
   ]
  },
  {
   "cell_type": "markdown",
   "metadata": {},
   "source": [
    "# show first matrix lines"
   ]
  },
  {
   "cell_type": "code",
   "execution_count": null,
   "metadata": {},
   "outputs": [],
   "source": [
    "np.transpose(df.head())"
   ]
  },
  {
   "cell_type": "markdown",
   "metadata": {},
   "source": [
    "# split train_test"
   ]
  },
  {
   "cell_type": "code",
   "execution_count": null,
   "metadata": {},
   "outputs": [],
   "source": [
    "X = df.drop(['folder'], axis=1)\n",
    "y = pd.DataFrame(df['folder'])\n",
    "\n",
    "test_size = 0.30\n",
    "X_train, X_test, y_train, y_test = train_test_split(X, y, test_size=test_size, random_state=42)\n",
    "\n",
    "print('X : {}\\nY : {}'.format(X.shape, y.shape))\n",
    "print('X_train : {}\\nX_test : {}\\ny_train : {}\\ny_test : {}'.format(\n",
    "    X_train.shape, X_test.shape, y_train.shape, y_test.shape))"
   ]
  },
  {
   "cell_type": "code",
   "execution_count": null,
   "metadata": {},
   "outputs": [],
   "source": [
    "X_train['body']"
   ]
  },
  {
   "cell_type": "markdown",
   "metadata": {},
   "source": [
    "# TF-IDF vectorizer"
   ]
  },
  {
   "cell_type": "code",
   "execution_count": null,
   "metadata": {},
   "outputs": [],
   "source": [
    "vectorizer = TfidfVectorizer(analyzer=\"word\")\n",
    "X_train_vec = vectorizer.fit_transform(X_train['body'])\n",
    "X_train_vec = pd.DataFrame(X_train_vec.todense(), columns=vectorizer.get_feature_names())\n",
    "\n",
    "X_test_vec = vectorizer.transform(X_test['body'])\n",
    "X_test_vec = pd.DataFrame(X_test_vec.todense(), columns=vectorizer.get_feature_names())\n",
    "X_test_vec.shape\n",
    "\n",
    "print('X_train_vec {}\\nX_test_vec {}'.format(X_train_vec.shape, X_test_vec.shape))"
   ]
  },
  {
   "cell_type": "markdown",
   "metadata": {},
   "source": [
    "# Logistic regression"
   ]
  },
  {
   "cell_type": "code",
   "execution_count": null,
   "metadata": {},
   "outputs": [],
   "source": [
    "classifier = LogisticRegression(class_weight='balanced')\n",
    "#y_train = np.ravel(y_train)\n",
    "classifier.fit(X_train_vec, y_train)"
   ]
  },
  {
   "cell_type": "code",
   "execution_count": null,
   "metadata": {},
   "outputs": [],
   "source": [
    "predicts = classifier.predict(X_test_vec)\n",
    "f1_score(y_test, predicts, average='macro')"
   ]
  },
  {
   "cell_type": "code",
   "execution_count": null,
   "metadata": {},
   "outputs": [],
   "source": [
    "X_test.shape\n",
    "y_test.shape\n",
    "\n",
    "y_train.shape"
   ]
  },
  {
   "cell_type": "markdown",
   "metadata": {},
   "source": [
    "# Random forest"
   ]
  },
  {
   "cell_type": "code",
   "execution_count": null,
   "metadata": {},
   "outputs": [],
   "source": [
    "### RANDOMFORESTCLASSIFIER\n",
    "rf_clf = RandomForestClassifier(n_estimators=200)\n",
    "rf_clf.fit(X_train_vec, y_train)\n",
    "\n",
    "print(\"Taux de bonne classification : %f\" %rf_clf.score(X_test_vec, y_test))\n",
    "# Calcul du F-score\n",
    "y_predits = rf_clf.predict(X_test_vec)\n",
    "print(\"F-score global : %f \" %f1_score(y_test, y_predits, average='micro'))\n",
    "print(\"F-score global (déséquilibré) : %f \" %f1_score(y_test, y_predits, average='macro'))\n",
    "F_scores = f1_score(y_test, y_predits, average=None)\n",
    "F_scores"
   ]
  },
  {
   "cell_type": "code",
   "execution_count": null,
   "metadata": {},
   "outputs": [],
   "source": [
    "np.column_stack((X_test['Message-ID'], predicts))"
   ]
  }
 ],
 "metadata": {
  "kernelspec": {
   "display_name": "Python 3",
   "language": "python",
   "name": "python3"
  },
  "language_info": {
   "codemirror_mode": {
    "name": "ipython",
    "version": 3
   },
   "file_extension": ".py",
   "mimetype": "text/x-python",
   "name": "python",
   "nbconvert_exporter": "python",
   "pygments_lexer": "ipython3",
   "version": "3.7.0"
  }
 },
 "nbformat": 4,
 "nbformat_minor": 2
}
